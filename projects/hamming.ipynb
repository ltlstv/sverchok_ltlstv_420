{
 "cells": [
  {
   "cell_type": "code",
   "execution_count": null,
   "metadata": {},
   "outputs": [],
   "source": [
    "a='0123456789'\n",
    "nums=list(a)\n",
    "print(nums)"
   ]
  },
  {
   "cell_type": "code",
   "execution_count": null,
   "metadata": {},
   "outputs": [],
   "source": [
    "b='0000000 000111 0010110 0011001 0100101 0101010 0110011 0111100 1000011 1001100'\n",
    "hem=b.split()\n",
    "print(hem)\n",
    "for i in range(len(hem)):\n",
    "  hem[i]=int(hem[i])\n",
    "print(hem)"
   ]
  },
  {
   "cell_type": "code",
   "execution_count": null,
   "metadata": {},
   "outputs": [],
   "source": [
    "def distance(x,y):\n",
    "  k=7\n",
    "  for i in range(7):\n",
    "    if x%10==y%10:\n",
    "      k=k-1\n",
    "    x=x//10\n",
    "    y=y//10\n",
    "  return "
   ]
  },
  {
   "cell_type": "code",
   "execution_count": null,
   "metadata": {},
   "outputs": [],
   "source": [
    "cod=int(input(\"код=\"))"
   ]
  },
  {
   "cell_type": "code",
   "execution_count": null,
   "metadata": {},
   "outputs": [],
   "source": [
    "min=distance(cod,hem[0])\n",
    "imin=0\n",
    "for i in range(10):\n",
    "  D=distance(cod,hem[i])\n",
    "  if D<min:\n",
    "    min=D\n",
    "    imin=i\n",
    "if min==0:\n",
    "  print(f\"Код верный: символ {nums[imin]}\")\n",
    "elif min==1:\n",
    "  print(f\"Код исправлен: символ {nums[imin]}\")\n",
    "else:print(f\"Код неверный\")"
   ]
  }
 ],
 "metadata": {
  "language_info": {
   "name": "python"
  },
  "orig_nbformat": 4
 },
 "nbformat": 4,
 "nbformat_minor": 2
}
